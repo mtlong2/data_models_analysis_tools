{
 "cells": [
  {
   "cell_type": "code",
   "execution_count": 1,
   "metadata": {},
   "outputs": [
    {
     "name": "stderr",
     "output_type": "stream",
     "text": [
      "Using TensorFlow backend.\n"
     ]
    }
   ],
   "source": [
    "# GridSearchCV hyperparameters\n",
    "# scikit-learn \n",
    "import numpy as np\n",
    "from sklearn.model_selection import GridSearchCV, RandomizedSearchCV\n",
    "from sklearn.preprocessing import StandardScaler\n",
    "from keras.models import Sequential\n",
    "from keras.layers import Dense, LSTM\n",
    "from keras.optimizers import SGD\n",
    "from keras.wrappers.scikit_learn import KerasRegressor\n",
    "from pandas import read_csv, DataFrame, concat\n",
    "from matplotlib import pyplot\n",
    "from math import sqrt\n",
    "# Function to create model, required for KerasClassifier\n"
   ]
  },
  {
   "cell_type": "code",
   "execution_count": 2,
   "metadata": {},
   "outputs": [],
   "source": [
    "# Hyperparameters to test, m_cells, batch_size, n_timesteps , learning rate and momentum\n",
    "param_grid = dict(m_cells = [1, 2, 5, 10, 20, 50], batch_size =[4, 16, 64, 256], n_timesteps = [1, 2, 4, 10, 50], learning_rate = [0.001, 0.01, 0.1, 0.2], momentum = [0.0, 0.2, 0.4, 0.8, 0.9])\n",
    "m_cells_opt = [1, 2, 5, 10, 20, 50]\n",
    "batch_size_opts = [4, 16, 64, 512]\n",
    "lr_opts = [0.001, 0.002, 0.01, 0.05, 0.1, 0.2]\n",
    "momentum_opts = [0.0, 0.2,0.3, 0.5, 0.7, 0.8, 0.9]\n",
    "param_grid_tst = {'m_cells' : m_cells_opt, 'batch_size':batch_size_opts, 'lr':lr_opts, 'momentum' : momentum_opts}\n",
    "\n",
    "# create lstm model required for kerasregressor\n",
    "def create_model(m_cells, lr, momentum):\n",
    "    # create model\n",
    "    model = Sequential()\n",
    "    model.add(LSTM(m_cells, activation='tanh', input_shape=(1,12)))\n",
    "    model.add(Dense(1))\n",
    "    optimizer = SGD(lr=lr, momentum=momentum)\n",
    "    model.compile(loss='mse', optimizer=optimizer)\n",
    "    # fit model\n",
    "    #model.fit(train_X3D, train_y, epochs=20, batch_size=batch_size, verbose=0)\n",
    "    return model\n",
    "    \n",
    "    \n",
    "def multivariate_to_supervised(data, lag=1, dropnan=True):\n",
    "    df = DataFrame(data)\n",
    "    columns = [df.shift(i) for i in range(1, lag+1)]\n",
    "    columns.append(df)\n",
    "    df = concat(columns, axis=1)\n",
    "    if dropnan:\n",
    "        df.dropna(inplace=True)\n",
    "    return df\n",
    "\n",
    "def difference_data(data):\n",
    "    df = data.diff()\n",
    "    df = df.drop(df.index[0], axis=0)\n",
    "    return df\n",
    "\n",
    "# fix seed for reproducibility\n",
    "seed = 6\n",
    "np.random.seed(seed)"
   ]
  },
  {
   "cell_type": "code",
   "execution_count": 3,
   "metadata": {},
   "outputs": [],
   "source": [
    "dataset = read_csv('PowerWeather.csv', header=0, infer_datetime_format=True, index_col='Date')\n",
    "dataset = dataset.drop(columns=['Consumption_kWh', 'DHI', 'DNI'], axis=1)\n",
    "# diff_dataset = difference_data(dataset)\n",
    "# values = diff_dataset.values\n",
    "\n",
    "values = dataset.values\n",
    "# ensure all data is float\n",
    "values = values.astype('float64')\n",
    "scaler = StandardScaler()\n",
    "scaler = scaler.fit(values)\n",
    "# print('Mean: %f, Standard Deviation: %f' %  (scaler.mean_, sqrt(scaler.var_)))\n",
    "zscore = scaler.transform(values)\n",
    "\n",
    "supervised = multivariate_to_supervised(zscore, lag=1)\n",
    "supervised = supervised.iloc[:,:13]"
   ]
  },
  {
   "cell_type": "code",
   "execution_count": 4,
   "metadata": {},
   "outputs": [
    {
     "name": "stdout",
     "output_type": "stream",
     "text": [
      "(10037, 1, 12)\n"
     ]
    }
   ],
   "source": [
    "# split into train and test sets\n",
    "train, test = supervised.values[:-10037], supervised.values[-10037:]\n",
    "# separate into inputs and outputs\n",
    "train_X, train_y = train[:,:-1], train[:,-1]\n",
    "test_X, test_y = test[:,:-1], test[:,-1]\n",
    "\n",
    "# reshape into 3D input \n",
    "train_X3D = train_X.reshape((train_X.shape[0], 1, train_X.shape[1]))\n",
    "test_X3D = test_X.reshape((test_X.shape[0], 1, test_X.shape[1]))\n",
    "print(test_X3D.shape)"
   ]
  },
  {
   "cell_type": "code",
   "execution_count": 5,
   "metadata": {},
   "outputs": [
    {
     "name": "stdout",
     "output_type": "stream",
     "text": [
      "Best score: -0.029612, Best Parameter: {'batch_size': 256, 'lr': 0.1, 'm_cells': 20, 'momentum': 0.9}\n"
     ]
    }
   ],
   "source": [
    "Kmodel = KerasRegressor(build_fn=create_model, epochs=18, verbose=False)\n",
    "grid = GridSearchCV(estimator=Kmodel, param_grid=param_grid_tst, scoring='neg_mean_squared_error', n_jobs=-1)\n",
    "grid_result = grid.fit(train_X3D,train_y)\n",
    "\n",
    "test_loss = grid.score(test_X3D, test_y)\n",
    "\n",
    "print('Best score: %f, Best Parameter: %s' % (grid_result.best_score_, grid_result.best_params_))"
   ]
  }
 ],
 "metadata": {
  "kernelspec": {
   "display_name": "Python 3",
   "language": "python",
   "name": "python3"
  },
  "language_info": {
   "codemirror_mode": {
    "name": "ipython",
    "version": 3
   },
   "file_extension": ".py",
   "mimetype": "text/x-python",
   "name": "python",
   "nbconvert_exporter": "python",
   "pygments_lexer": "ipython3",
   "version": "3.6.0"
  }
 },
 "nbformat": 4,
 "nbformat_minor": 2
}
